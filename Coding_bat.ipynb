{
 "cells": [
  {
   "cell_type": "code",
   "execution_count": 1,
   "metadata": {
    "collapsed": true
   },
   "outputs": [],
   "source": [
    "# logic problem\n",
    "#  A squirrel party is successful when the number of cigars is between 40 and 60, inclusive. \n",
    "# Unless it is the weekend, in which case there is no upper bound on the number of cigars.\n",
    "# Return True if the party with the given values is successful, or False otherwise.\n",
    "\n",
    "def cigar_party(cigars, is_weekend):\n",
    "    if ( cigars >= 40 and cigars <=60):\n",
    "        return True;\n",
    "    if ( is_weekend == True and cigars >= 40):\n",
    "        return True;\n",
    "    else:\n",
    "        return False;\n",
    "    "
   ]
  },
  {
   "cell_type": "code",
   "execution_count": null,
   "metadata": {
    "collapsed": true
   },
   "outputs": [],
   "source": [
    "# String probelm\n",
    "#Given a string, return a string where for every char in the original, there are two chars.\n",
    "def double_char(str):\n",
    "    result = \" \"\n",
    "    for char in str:\n",
    "        result += char * 2\n",
    "    return result\n"
   ]
  },
  {
   "cell_type": "code",
   "execution_count": null,
   "metadata": {
    "collapsed": true
   },
   "outputs": [],
   "source": [
    "#list problem \n",
    "# Given an array length 1 or more of ints, return the difference between the largest and smallest values in the array.\n",
    "\n",
    "def big_diff(nums):\n",
    "    smallest = min(nums)\n",
    "    largest = max(nums)\n",
    "    return largest - smallest\n"
   ]
  },
  {
   "cell_type": "code",
   "execution_count": 27,
   "metadata": {
    "collapsed": true
   },
   "outputs": [],
   "source": []
  },
  {
   "cell_type": "code",
   "execution_count": null,
   "metadata": {
    "collapsed": true
   },
   "outputs": [],
   "source": []
  }
 ],
 "metadata": {
  "kernelspec": {
   "display_name": "Python 3",
   "language": "python",
   "name": "python3"
  },
  "language_info": {
   "codemirror_mode": {
    "name": "ipython",
    "version": 3
   },
   "file_extension": ".py",
   "mimetype": "text/x-python",
   "name": "python",
   "nbconvert_exporter": "python",
   "pygments_lexer": "ipython3",
   "version": "3.6.1"
  }
 },
 "nbformat": 4,
 "nbformat_minor": 2
}
