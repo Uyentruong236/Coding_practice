{
 "cells": [
  {
   "cell_type": "code",
   "execution_count": null,
   "metadata": {
    "collapsed": true
   },
   "outputs": [],
   "source": [
    "#leap_year:\n",
    "# # The year can be evenly divided by 4, is a leap year, unless:\n",
    "# The year can be evenly divided by 100, it is NOT a leap year, unless:\n",
    "# The year is also evenly divisible by 400. Then it is a leap year.\n",
    "\n",
    "def is_leap(year):\n",
    "    leap = False\n",
    "    if ((year % 4 == 0) and (year % 100 != 0)) or (year % 400 == 0):\n",
    "        return True\n",
    "    return leap"
   ]
  }
 ],
 "metadata": {
  "kernelspec": {
   "display_name": "Python 3",
   "language": "python",
   "name": "python3"
  },
  "language_info": {
   "codemirror_mode": {
    "name": "ipython",
    "version": 3
   },
   "file_extension": ".py",
   "mimetype": "text/x-python",
   "name": "python",
   "nbconvert_exporter": "python",
   "pygments_lexer": "ipython3",
   "version": "3.6.1"
  }
 },
 "nbformat": 4,
 "nbformat_minor": 2
}
