{
 "cells": [
  {
   "cell_type": "code",
   "execution_count": 1,
   "metadata": {
    "collapsed": true
   },
   "outputs": [],
   "source": [
    "#List comprehension\n",
    "line = ['1.4E6', '-52', '200.234', '1']\n",
    "floats = [float(x) for x in line]\n",
    "# print(floats)\n",
    "\n",
    "positive_floats = [x for x in floats if x > 0]\n",
    "# print(positive_floats)\n",
    "\n",
    "sorted_positive_floats = sorted(positive_floats, reverse= True)\n",
    "# print(sorted_positive_floats)"
   ]
  },
  {
   "cell_type": "code",
   "execution_count": 23,
   "metadata": {},
   "outputs": [
    {
     "name": "stdout",
     "output_type": "stream",
     "text": [
      "12\n",
      "[12]\n",
      "12\n",
      "24\n",
      "[12, 24]\n"
     ]
    }
   ],
   "source": [
    "# Arrays-like collections\n",
    "'''\n",
    "Set produces unique values from each list, values are enclosed by ()\n",
    "set objects are mutable , but can't be indexed \n",
    "Tuple is like a list but you can't add/remove elements, values are enclosed by (),\n",
    "tuples are faster and consume less memory \n",
    "A list is mutable but may take up more space, values are enclosed by []\n",
    "'''\n",
    "\n",
    "import timeit\n",
    "# figure out how to use timeit module\n",
    "def timing_my_arrays(example):\n",
    "    for i in example:\n",
    "        print(i)\n",
    "\n",
    "\n",
    "def bad_initializer(element, default_list=[]):\n",
    "    default_list.append(element)\n",
    "    for i in default_list:\n",
    "    return default_list\n",
    "\n",
    "print(bad_initializer(12))\n",
    "print(bad_initializer(24))\n",
    "\n",
    "# Likely unintended consequence, a new list is created once when the function is defined,\n",
    "# and the same list is used in each successive call."
   ]
  },
  {
   "cell_type": "code",
   "execution_count": null,
   "metadata": {
    "collapsed": true
   },
   "outputs": [],
   "source": [
    "# Dictionaries\n"
   ]
  },
  {
   "cell_type": "code",
   "execution_count": 144,
   "metadata": {},
   "outputs": [
    {
     "name": "stdout",
     "output_type": "stream",
     "text": [
      "0 Subaru\n",
      "1 Jeep\n",
      "2 VW Beetle\n",
      "3 Ford F-150\n",
      "4 Honda\n",
      "5 Nissan\n",
      "6 Toyota\n"
     ]
    }
   ],
   "source": [
    "# Zip\n",
    "a = ['Subaru', 'Jeep', 'VW Beetle', 'Ford F-150', 'Honda', 'Nissan', 'Toyota']\n",
    "b = range(7)\n",
    "for i in list(zip(b,a)):\n",
    "    print(i[0], i[1])"
   ]
  },
  {
   "cell_type": "code",
   "execution_count": 145,
   "metadata": {},
   "outputs": [
    {
     "name": "stdout",
     "output_type": "stream",
     "text": [
      "0 Subaru\n",
      "1 Jeep\n",
      "2 VW Beetle\n",
      "3 Ford F-150\n",
      "4 Honda\n",
      "5 Nissan\n",
      "6 Toyota\n"
     ]
    }
   ],
   "source": [
    "# print the same thing without using range\n",
    "for i, j in enumerate(a):\n",
    "    print(i,j)"
   ]
  },
  {
   "cell_type": "code",
   "execution_count": 147,
   "metadata": {},
   "outputs": [
    {
     "data": {
      "text/plain": [
       "('butter', 'bread')"
      ]
     },
     "execution_count": 147,
     "metadata": {},
     "output_type": "execute_result"
    }
   ],
   "source": [
    "# Functions and arguments\n",
    "def function_with_options(arg1, arg2=None, arg3=None):\n",
    "    if arg2 is None:\n",
    "        return (arg1)\n",
    "    if arg3 is None:\n",
    "        return (arg1, arg2)\n",
    "    else:\n",
    "        return (arg1, arg2, arg3)\n",
    "function_with_options('butter','bread')"
   ]
  },
  {
   "cell_type": "code",
   "execution_count": 205,
   "metadata": {},
   "outputs": [],
   "source": [
    "def function_with_options2(arg1, *args):\n",
    "    return arg1, args"
   ]
  },
  {
   "cell_type": "code",
   "execution_count": 206,
   "metadata": {},
   "outputs": [
    {
     "data": {
      "text/plain": [
       "('bread', ('milk', 'chsee', 'butter'))"
      ]
     },
     "execution_count": 206,
     "metadata": {},
     "output_type": "execute_result"
    }
   ],
   "source": [
    "function_with_options2('bread', 'milk', 'chsee', 'butter')"
   ]
  },
  {
   "cell_type": "code",
   "execution_count": 148,
   "metadata": {},
   "outputs": [
    {
     "data": {
      "text/plain": [
       "4"
      ]
     },
     "execution_count": 148,
     "metadata": {},
     "output_type": "execute_result"
    }
   ],
   "source": [
    "def function_with_args(*args):\n",
    "    for i in args:\n",
    "        return len(args)\n",
    "    \n",
    "function_with_args('bread', 'milk', 'tea', 'cream')"
   ]
  },
  {
   "cell_type": "code",
   "execution_count": 146,
   "metadata": {
    "scrolled": true
   },
   "outputs": [
    {
     "name": "stdout",
     "output_type": "stream",
     "text": [
      "bread\n",
      "milk\n",
      "tea\n",
      "cream\n"
     ]
    }
   ],
   "source": [
    "def function_with_kwargs(**kwargs):\n",
    "    for key, value in kwargs.items():\n",
    "        print(value)\n",
    "function_with_kwargs(k='bread', k2='milk', k3='tea', k4='cream')"
   ]
  },
  {
   "cell_type": "code",
   "execution_count": 240,
   "metadata": {},
   "outputs": [],
   "source": [
    "class animal:\n",
    "    '''This class accepts name and age of an animal'''\n",
    "\n",
    "    def __init__(self, name=None, age=0):\n",
    "        self.name = name\n",
    "        self.age = age\n",
    "        \n",
    "    def getName(self):\n",
    "        return self.name\n",
    "    \n",
    "    def getAge(self):\n",
    "        self.age +=1\n",
    "        return self.age\n",
    "\n",
    "    def speak(self):\n",
    "        return str(self.getName()) + ' can\\'t speak'\n",
    "    \n",
    "    def birthday(self):\n",
    "        return 'happy birthday ' + str(self.getName())\n"
   ]
  },
  {
   "cell_type": "code",
   "execution_count": 241,
   "metadata": {},
   "outputs": [
    {
     "data": {
      "text/plain": [
       "'happy birthday charlie'"
      ]
     },
     "execution_count": 241,
     "metadata": {},
     "output_type": "execute_result"
    }
   ],
   "source": [
    "a = animal('charlie', 2)\n",
    "b = animal('luke', 5)\n",
    "\n",
    "a.birthday()\n"
   ]
  },
  {
   "cell_type": "code",
   "execution_count": null,
   "metadata": {
    "collapsed": true
   },
   "outputs": [],
   "source": []
  }
 ],
 "metadata": {
  "kernelspec": {
   "display_name": "Python 3",
   "language": "python",
   "name": "python3"
  },
  "language_info": {
   "codemirror_mode": {
    "name": "ipython",
    "version": 3
   },
   "file_extension": ".py",
   "mimetype": "text/x-python",
   "name": "python",
   "nbconvert_exporter": "python",
   "pygments_lexer": "ipython3",
   "version": "3.6.1"
  }
 },
 "nbformat": 4,
 "nbformat_minor": 2
}
